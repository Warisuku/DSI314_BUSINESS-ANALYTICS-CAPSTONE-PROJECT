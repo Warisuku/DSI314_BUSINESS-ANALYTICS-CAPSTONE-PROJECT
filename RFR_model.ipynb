{
 "cells": [
  {
   "cell_type": "code",
   "execution_count": 1,
   "metadata": {},
   "outputs": [],
   "source": [
    "import pandas as pd\n",
    "from sklearn.model_selection import train_test_split\n",
    "from sklearn.feature_selection import SelectKBest\n",
    "from sklearn.feature_selection import mutual_info_regression\n",
    "from sklearn.linear_model import LinearRegression\n",
    "from sklearn.metrics import mean_absolute_error\n",
    "from sklearn.ensemble import RandomForestRegressor\n",
    "from matplotlib import pyplot\n",
    "import numpy as np\n",
    "#from sklearn.metrics import r2_score\n",
    "# from sklearn.feature_selection import f_regression\n",
    "# from sklearn.feature_selection import f_classif"
   ]
  },
  {
   "cell_type": "code",
   "execution_count": 35,
   "metadata": {},
   "outputs": [],
   "source": [
    "all_feild = pd.read_csv('data/all_feild_clean.csv')\n",
    "tag_df = pd.read_csv('data/genre_tag_clean.csv')"
   ]
  },
  {
   "cell_type": "code",
   "execution_count": 36,
   "metadata": {},
   "outputs": [],
   "source": [
    "rating = all_feild['rating']\n",
    "feature = tag_df.drop(columns= ['appid'])"
   ]
  },
  {
   "cell_type": "code",
   "execution_count": 37,
   "metadata": {},
   "outputs": [],
   "source": [
    "y = rating\n",
    "X = feature\n",
    "\n",
    "X_train, X_test, y_train, y_test = train_test_split(X, y, test_size=0.3, random_state=19)"
   ]
  },
  {
   "cell_type": "code",
   "execution_count": 38,
   "metadata": {},
   "outputs": [
    {
     "name": "stdout",
     "output_type": "stream",
     "text": [
      "Feature 0: 0.000000\n",
      "Feature 1: 0.013067\n",
      "Feature 2: 0.004221\n",
      "Feature 3: 0.004343\n",
      "Feature 4: 0.011866\n",
      "Feature 5: 0.002129\n",
      "Feature 6: 0.010777\n",
      "Feature 7: 0.005233\n",
      "Feature 8: 0.006570\n",
      "Feature 9: 0.002708\n",
      "Feature 10: 0.000000\n",
      "Feature 11: 0.000000\n",
      "Feature 12: 0.000000\n",
      "Feature 13: 0.002297\n",
      "Feature 14: 0.000244\n",
      "Feature 15: 0.003530\n",
      "Feature 16: 0.000811\n",
      "Feature 17: 0.000000\n",
      "Feature 18: 0.000000\n",
      "Feature 19: 0.000000\n",
      "Feature 20: 0.004123\n",
      "Feature 21: 0.002790\n",
      "Feature 22: 0.002998\n",
      "Feature 23: 0.001639\n",
      "Feature 24: 0.000000\n",
      "Feature 25: 0.000000\n",
      "Feature 26: 0.020813\n",
      "Feature 27: 0.000578\n",
      "Feature 28: 0.004925\n",
      "Feature 29: 0.001509\n",
      "Feature 30: 0.003581\n",
      "Feature 31: 0.003067\n",
      "Feature 32: 0.008456\n",
      "Feature 33: 0.005087\n",
      "Feature 34: 0.000000\n",
      "Feature 35: 0.000000\n",
      "Feature 36: 0.006849\n",
      "Feature 37: 0.000036\n",
      "Feature 38: 0.000000\n",
      "Feature 39: 0.000000\n",
      "Feature 40: 0.005082\n",
      "Feature 41: 0.000511\n",
      "Feature 42: 0.000000\n",
      "Feature 43: 0.000000\n",
      "Feature 44: 0.002775\n",
      "Feature 45: 0.001539\n",
      "Feature 46: 0.001656\n",
      "Feature 47: 0.001537\n",
      "Feature 48: 0.003794\n",
      "Feature 49: 0.006613\n",
      "Feature 50: 0.006327\n",
      "Feature 51: 0.001665\n",
      "Feature 52: 0.000000\n",
      "Feature 53: 0.003747\n",
      "Feature 54: 0.000000\n",
      "Feature 55: 0.005595\n",
      "Feature 56: 0.005079\n",
      "Feature 57: 0.000000\n",
      "Feature 58: 0.001342\n",
      "Feature 59: 0.000000\n",
      "Feature 60: 0.000000\n",
      "Feature 61: 0.004359\n",
      "Feature 62: 0.000000\n",
      "Feature 63: 0.002085\n",
      "Feature 64: 0.002869\n",
      "Feature 65: 0.014942\n",
      "Feature 66: 0.005741\n",
      "Feature 67: 0.010658\n",
      "Feature 68: 0.004939\n",
      "Feature 69: 0.000920\n",
      "Feature 70: 0.000104\n",
      "Feature 71: 0.001571\n",
      "Feature 72: 0.004692\n",
      "Feature 73: 0.026080\n",
      "Feature 74: 0.011733\n",
      "Feature 75: 0.036296\n",
      "Feature 76: 0.006348\n",
      "Feature 77: 0.001215\n",
      "Feature 78: 0.025787\n",
      "Feature 79: 0.013846\n",
      "Feature 80: 0.001485\n",
      "Feature 81: 0.000000\n",
      "Feature 82: 0.008707\n",
      "Feature 83: 0.005012\n",
      "Feature 84: 0.000622\n",
      "Feature 85: 0.004080\n",
      "Feature 86: 0.001923\n",
      "Feature 87: 0.002690\n",
      "Feature 88: 0.005389\n",
      "Feature 89: 0.000724\n",
      "Feature 90: 0.003206\n",
      "Feature 91: 0.000049\n",
      "Feature 92: 0.000000\n",
      "Feature 93: 0.000000\n",
      "Feature 94: 0.000000\n",
      "Feature 95: 0.000000\n",
      "Feature 96: 0.000847\n",
      "Feature 97: 0.000000\n",
      "Feature 98: 0.002873\n",
      "Feature 99: 0.007000\n",
      "Feature 100: 0.000000\n",
      "Feature 101: 0.011493\n",
      "Feature 102: 0.008542\n",
      "Feature 103: 0.002455\n",
      "Feature 104: 0.005583\n",
      "Feature 105: 0.003362\n",
      "Feature 106: 0.000000\n",
      "Feature 107: 0.006110\n",
      "Feature 108: 0.012319\n",
      "Feature 109: 0.000000\n",
      "Feature 110: 0.002009\n",
      "Feature 111: 0.002663\n",
      "Feature 112: 0.001275\n",
      "Feature 113: 0.000000\n",
      "Feature 114: 0.000000\n",
      "Feature 115: 0.003622\n",
      "Feature 116: 0.004431\n",
      "Feature 117: 0.000707\n",
      "Feature 118: 0.010041\n",
      "Feature 119: 0.000000\n",
      "Feature 120: 0.000000\n",
      "Feature 121: 0.001125\n",
      "Feature 122: 0.001822\n",
      "Feature 123: 0.001931\n",
      "Feature 124: 0.011723\n",
      "Feature 125: 0.003757\n",
      "Feature 126: 0.003788\n",
      "Feature 127: 0.000000\n",
      "Feature 128: 0.001972\n",
      "Feature 129: 0.010698\n",
      "Feature 130: 0.001129\n",
      "Feature 131: 0.000493\n",
      "Feature 132: 0.000000\n",
      "Feature 133: 0.023188\n",
      "Feature 134: 0.001569\n",
      "Feature 135: 0.001180\n",
      "Feature 136: 0.000980\n",
      "Feature 137: 0.000000\n",
      "Feature 138: 0.000604\n",
      "Feature 139: 0.000000\n",
      "Feature 140: 0.012454\n",
      "Feature 141: 0.007208\n",
      "Feature 142: 0.018431\n",
      "Feature 143: 0.000193\n",
      "Feature 144: 0.000000\n",
      "Feature 145: 0.000566\n",
      "Feature 146: 0.000000\n",
      "Feature 147: 0.003882\n",
      "Feature 148: 0.003847\n",
      "Feature 149: 0.001244\n",
      "Feature 150: 0.000000\n",
      "Feature 151: 0.006171\n",
      "Feature 152: 0.000062\n",
      "Feature 153: 0.000000\n",
      "Feature 154: 0.005088\n",
      "Feature 155: 0.002009\n",
      "Feature 156: 0.000897\n",
      "Feature 157: 0.000304\n",
      "Feature 158: 0.001480\n",
      "Feature 159: 0.000609\n",
      "Feature 160: 0.004328\n",
      "Feature 161: 0.002603\n",
      "Feature 162: 0.000538\n",
      "Feature 163: 0.000000\n",
      "Feature 164: 0.001195\n",
      "Feature 165: 0.005717\n",
      "Feature 166: 0.004324\n",
      "Feature 167: 0.003380\n",
      "Feature 168: 0.008069\n",
      "Feature 169: 0.001965\n",
      "Feature 170: 0.007528\n",
      "Feature 171: 0.003591\n",
      "Feature 172: 0.006406\n",
      "Feature 173: 0.001527\n",
      "Feature 174: 0.006193\n",
      "Feature 175: 0.000441\n",
      "Feature 176: 0.000000\n",
      "Feature 177: 0.000000\n",
      "Feature 178: 0.000000\n",
      "Feature 179: 0.003133\n",
      "Feature 180: 0.000213\n",
      "Feature 181: 0.002364\n",
      "Feature 182: 0.001697\n",
      "Feature 183: 0.000000\n",
      "Feature 184: 0.000371\n",
      "Feature 185: 0.000000\n",
      "Feature 186: 0.002258\n",
      "Feature 187: 0.000437\n",
      "Feature 188: 0.002015\n",
      "Feature 189: 0.000568\n",
      "Feature 190: 0.009181\n",
      "Feature 191: 0.007528\n",
      "Feature 192: 0.003963\n",
      "Feature 193: 0.001121\n",
      "Feature 194: 0.003586\n",
      "Feature 195: 0.000486\n",
      "Feature 196: 0.000000\n",
      "Feature 197: 0.000000\n",
      "Feature 198: 0.000436\n",
      "Feature 199: 0.005964\n",
      "Feature 200: 0.007715\n",
      "Feature 201: 0.002512\n",
      "Feature 202: 0.005255\n",
      "Feature 203: 0.010989\n",
      "Feature 204: 0.000189\n",
      "Feature 205: 0.003122\n",
      "Feature 206: 0.011963\n",
      "Feature 207: 0.002037\n",
      "Feature 208: 0.002499\n",
      "Feature 209: 0.004098\n",
      "Feature 210: 0.000000\n",
      "Feature 211: 0.002953\n",
      "Feature 212: 0.000878\n",
      "Feature 213: 0.002188\n",
      "Feature 214: 0.000000\n",
      "Feature 215: 0.000119\n",
      "Feature 216: 0.000577\n",
      "Feature 217: 0.003510\n",
      "Feature 218: 0.005090\n",
      "Feature 219: 0.002731\n",
      "Feature 220: 0.000058\n",
      "Feature 221: 0.003860\n",
      "Feature 222: 0.002761\n",
      "Feature 223: 0.000000\n",
      "Feature 224: 0.006510\n",
      "Feature 225: 0.001296\n",
      "Feature 226: 0.001238\n",
      "Feature 227: 0.002445\n",
      "Feature 228: 0.006222\n",
      "Feature 229: 0.000023\n",
      "Feature 230: 0.002718\n",
      "Feature 231: 0.000000\n",
      "Feature 232: 0.002033\n",
      "Feature 233: 0.000000\n",
      "Feature 234: 0.000552\n",
      "Feature 235: 0.000359\n",
      "Feature 236: 0.002134\n",
      "Feature 237: 0.000000\n",
      "Feature 238: 0.000000\n",
      "Feature 239: 0.000000\n",
      "Feature 240: 0.000794\n",
      "Feature 241: 0.000000\n",
      "Feature 242: 0.000000\n",
      "Feature 243: 0.000000\n",
      "Feature 244: 0.000000\n",
      "Feature 245: 0.000000\n",
      "Feature 246: 0.000593\n",
      "Feature 247: 0.003612\n",
      "Feature 248: 0.009228\n",
      "Feature 249: 0.000801\n",
      "Feature 250: 0.000000\n",
      "Feature 251: 0.004548\n",
      "Feature 252: 0.003722\n",
      "Feature 253: 0.001538\n",
      "Feature 254: 0.000000\n",
      "Feature 255: 0.001430\n",
      "Feature 256: 0.002838\n",
      "Feature 257: 0.002001\n",
      "Feature 258: 0.000788\n",
      "Feature 259: 0.001541\n",
      "Feature 260: 0.012823\n",
      "Feature 261: 0.009145\n",
      "Feature 262: 0.000976\n",
      "Feature 263: 0.000000\n",
      "Feature 264: 0.001637\n",
      "Feature 265: 0.000000\n",
      "Feature 266: 0.001356\n",
      "Feature 267: 0.000000\n",
      "Feature 268: 0.001844\n",
      "Feature 269: 0.004499\n",
      "Feature 270: 0.002493\n",
      "Feature 271: 0.000000\n",
      "Feature 272: 0.004582\n",
      "Feature 273: 0.002393\n",
      "Feature 274: 0.001526\n",
      "Feature 275: 0.000000\n",
      "Feature 276: 0.000000\n",
      "Feature 277: 0.008917\n",
      "Feature 278: 0.000000\n",
      "Feature 279: 0.000624\n",
      "Feature 280: 0.003494\n",
      "Feature 281: 0.000000\n",
      "Feature 282: 0.000000\n",
      "Feature 283: 0.006137\n",
      "Feature 284: 0.000000\n",
      "Feature 285: 0.001983\n",
      "Feature 286: 0.000000\n",
      "Feature 287: 0.000000\n",
      "Feature 288: 0.002068\n",
      "Feature 289: 0.000000\n",
      "Feature 290: 0.003234\n",
      "Feature 291: 0.000000\n",
      "Feature 292: 0.000000\n",
      "Feature 293: 0.001236\n",
      "Feature 294: 0.000960\n",
      "Feature 295: 0.000600\n",
      "Feature 296: 0.007369\n",
      "Feature 297: 0.000764\n",
      "Feature 298: 0.000000\n",
      "Feature 299: 0.002763\n",
      "Feature 300: 0.000000\n",
      "Feature 301: 0.000000\n",
      "Feature 302: 0.000000\n",
      "Feature 303: 0.004332\n",
      "Feature 304: 0.000000\n",
      "Feature 305: 0.004616\n",
      "Feature 306: 0.001280\n",
      "Feature 307: 0.000000\n",
      "Feature 308: 0.003985\n",
      "Feature 309: 0.000000\n",
      "Feature 310: 0.000424\n",
      "Feature 311: 0.000000\n",
      "Feature 312: 0.001485\n",
      "Feature 313: 0.000223\n",
      "Feature 314: 0.000000\n",
      "Feature 315: 0.000000\n",
      "Feature 316: 0.000605\n",
      "Feature 317: 0.012697\n",
      "Feature 318: 0.002057\n",
      "Feature 319: 0.000000\n",
      "Feature 320: 0.000000\n",
      "Feature 321: 0.000000\n",
      "Feature 322: 0.002132\n",
      "Feature 323: 0.000977\n",
      "Feature 324: 0.001748\n",
      "Feature 325: 0.000000\n",
      "Feature 326: 0.003635\n",
      "Feature 327: 0.000000\n",
      "Feature 328: 0.003902\n",
      "Feature 329: 0.004638\n",
      "Feature 330: 0.000000\n",
      "Feature 331: 0.000000\n",
      "Feature 332: 0.000000\n",
      "Feature 333: 0.000243\n",
      "Feature 334: 0.000315\n",
      "Feature 335: 0.001155\n",
      "Feature 336: 0.000000\n",
      "Feature 337: 0.001518\n",
      "Feature 338: 0.000000\n",
      "Feature 339: 0.002388\n",
      "Feature 340: 0.001568\n",
      "Feature 341: 0.000537\n",
      "Feature 342: 0.000000\n",
      "Feature 343: 0.003193\n",
      "Feature 344: 0.000408\n",
      "Feature 345: 0.003658\n",
      "Feature 346: 0.000000\n",
      "Feature 347: 0.000000\n",
      "Feature 348: 0.000880\n",
      "Feature 349: 0.000000\n",
      "Feature 350: 0.000000\n",
      "Feature 351: 0.004710\n",
      "Feature 352: 0.001385\n",
      "Feature 353: 0.002520\n",
      "Feature 354: 0.005429\n",
      "Feature 355: 0.001213\n",
      "Feature 356: 0.000000\n",
      "Feature 357: 0.000000\n",
      "Feature 358: 0.000005\n",
      "Feature 359: 0.000000\n",
      "Feature 360: 0.000074\n",
      "Feature 361: 0.000235\n",
      "Feature 362: 0.000000\n",
      "Feature 363: 0.000316\n",
      "Feature 364: 0.000000\n",
      "Feature 365: 0.004460\n",
      "Feature 366: 0.001752\n",
      "Feature 367: 0.000000\n",
      "Feature 368: 0.000189\n",
      "Feature 369: 0.000000\n",
      "Feature 370: 0.000474\n",
      "Feature 371: 0.000000\n",
      "Feature 372: 0.003351\n",
      "Feature 373: 0.000000\n",
      "Feature 374: 0.000000\n",
      "Feature 375: 0.000939\n",
      "Feature 376: 0.000000\n",
      "Feature 377: 0.000000\n",
      "Feature 378: 0.004487\n",
      "Feature 379: 0.000000\n",
      "Feature 380: 0.003709\n",
      "Feature 381: 0.001369\n",
      "Feature 382: 0.002719\n",
      "Feature 383: 0.000000\n",
      "Feature 384: 0.000000\n",
      "Feature 385: 0.000000\n",
      "Feature 386: 0.000000\n",
      "Feature 387: 0.000000\n",
      "Feature 388: 0.000000\n",
      "Feature 389: 0.002645\n",
      "Feature 390: 0.000000\n",
      "Feature 391: 0.000461\n",
      "Feature 392: 0.001994\n",
      "Feature 393: 0.002636\n",
      "Feature 394: 0.000053\n",
      "Feature 395: 0.002583\n",
      "Feature 396: 0.000000\n",
      "Feature 397: 0.001119\n",
      "Feature 398: 0.000190\n",
      "Feature 399: 0.000000\n",
      "Feature 400: 0.003838\n",
      "Feature 401: 0.001869\n",
      "Feature 402: 0.001967\n",
      "Feature 403: 0.000000\n",
      "Feature 404: 0.000000\n",
      "Feature 405: 0.000000\n",
      "Feature 406: 0.003320\n",
      "Feature 407: 0.000000\n",
      "Feature 408: 0.000000\n",
      "Feature 409: 0.001450\n",
      "Feature 410: 0.000000\n",
      "Feature 411: 0.003645\n",
      "Feature 412: 0.001867\n",
      "Feature 413: 0.000000\n",
      "Feature 414: 0.002413\n",
      "Feature 415: 0.000000\n",
      "Feature 416: 0.000000\n",
      "Feature 417: 0.000000\n"
     ]
    },
    {
     "data": {
      "image/png": "[encoded data removed]",
      "text/plain": [
       "<Figure size 432x288 with 1 Axes>"
      ]
     },
     "metadata": {
      "needs_background": "light"
     },
     "output_type": "display_data"
    }
   ],
   "source": [
    "# feature selection\n",
    "def select_features(X_train, y_train, X_test):\n",
    "\t# configure to select all features\n",
    "\tfs = SelectKBest(score_func= mutual_info_regression, k= 'all')\n",
    "\t# learn relationship from training data\n",
    "\tfs.fit(X_train, y_train)\n",
    "\t# transform train input data\n",
    "\tX_train_fs = fs.transform(X_train)\n",
    "\t# transform test input data\n",
    "\tX_test_fs = fs.transform(X_test)\n",
    "\treturn X_train_fs, X_test_fs, fs\n",
    " \n",
    "\n",
    "# feature selection\n",
    "X_train_fs, X_test_fs, fs = select_features(X_train, y_train, X_test)\n",
    "# what are scores for the features\n",
    "for i in range(len(fs.scores_)):\n",
    "\tprint('Feature %d: %f' % (i, fs.scores_[i]))\n",
    "# plot the scores\n",
    "pyplot.bar([i for i in range(len(fs.scores_))], fs.scores_)\n",
    "pyplot.show()"
   ]
  },
  {
   "cell_type": "code",
   "execution_count": 6,
   "metadata": {},
   "outputs": [
    {
     "data": {
      "text/plain": [
       "(34277, 418)"
      ]
     },
     "execution_count": 6,
     "metadata": {},
     "output_type": "execute_result"
    }
   ],
   "source": [
    "X_train_fs.shape"
   ]
  },
  {
   "cell_type": "code",
   "execution_count": 15,
   "metadata": {},
   "outputs": [
    {
     "name": "stdout",
     "output_type": "stream",
     "text": [
      " LinearRegression: 0.10421\n"
     ]
    }
   ],
   "source": [
    "# fit the model\n",
    "model = LinearRegression()\n",
    "model.fit(X_train_fs, y_train)\n",
    "# evaluate the model\n",
    "y_pred_lr = model.predict(X_test_fs)\n",
    "# evaluate predictions\n",
    "lr_mae = mean_absolute_error(y_test, y_pred_lr)\n",
    "\n",
    "\n",
    "\n",
    "print(' LinearRegression: %.5f' % lr_mae)"
   ]
  },
  {
   "attachments": {},
   "cell_type": "markdown",
   "metadata": {},
   "source": [
    "All = 0.10053\n",
    "300 = 0.10140\n",
    "200 = 0.10132"
   ]
  },
  {
   "cell_type": "code",
   "execution_count": 36,
   "metadata": {},
   "outputs": [
    {
     "name": "stdout",
     "output_type": "stream",
     "text": [
      " DecisionTreeRegressor MAE: 0.10607\n"
     ]
    }
   ],
   "source": [
    "from sklearn.tree import DecisionTreeRegressor\n",
    "\n",
    "dt = DecisionTreeRegressor(max_depth=8)\n",
    "dt.fit(X_train_fs, y_train)\n",
    "\n",
    "# Predict\n",
    "y_pred_dt = dt.predict(X_test_fs)\n",
    "\n",
    "dt_mae = mean_absolute_error(y_test, y_pred_dt)\n",
    "\n",
    "print(' DecisionTreeRegressor MAE: %.5f' % dt_mae)"
   ]
  },
  {
   "cell_type": "code",
   "execution_count": 42,
   "metadata": {},
   "outputs": [
    {
     "name": "stdout",
     "output_type": "stream",
     "text": [
      " SVR MAE: 0.10090\n"
     ]
    }
   ],
   "source": [
    "from sklearn.svm import SVR\n",
    "\n",
    "svr = SVR().fit(X_train_fs, y_train)\n",
    "\n",
    "# Predict\n",
    "y_pred_svr = svr.predict(X_test_fs)\n",
    "\n",
    "svr_mae = mean_absolute_error(y_test, y_pred_svr)\n",
    "\n",
    "print(' SVR MAE: %.5f' % svr_mae)"
   ]
  },
  {
   "cell_type": "code",
   "execution_count": 19,
   "metadata": {},
   "outputs": [
    {
     "name": "stdout",
     "output_type": "stream",
     "text": [
      " Lasso MAE: 0.11517\n"
     ]
    }
   ],
   "source": [
    "from sklearn import linear_model\n",
    "\n",
    "lassoReg = linear_model.Lasso(alpha=0.1)\n",
    "lassoReg.fit(X_train_fs, y_train)\n",
    "\n",
    "# Predict\n",
    "y_pred_lasso = lassoReg.predict(X_test_fs)\n",
    "\n",
    "lasso_mae = mean_absolute_error(y_test, y_pred_lasso)\n",
    "\n",
    "print(' Lasso MAE: %.5f' % lasso_mae)"
   ]
  },
  {
   "cell_type": "code",
   "execution_count": 7,
   "metadata": {},
   "outputs": [
    {
     "name": "stdout",
     "output_type": "stream",
     "text": [
      " RandomForestRegressor MAE: 0.10047\n"
     ]
    }
   ],
   "source": [
    "from sklearn.ensemble import RandomForestRegressor\n",
    "\n",
    "rfr = RandomForestRegressor(max_depth=20)\n",
    "rfr.fit(X_train_fs, y_train)\n",
    "\n",
    "y_pred_rfr = rfr.predict(X_test_fs)\n",
    "\n",
    "rfr_mae = mean_absolute_error(y_test, y_pred_rfr)\n",
    "\n",
    "print(' RandomForestRegressor MAE: %.5f' % rfr_mae)"
   ]
  },
  {
   "cell_type": "code",
   "execution_count": 46,
   "metadata": {},
   "outputs": [
    {
     "data": {
      "text/plain": [
       "{'whiskers': [<matplotlib.lines.Line2D at 0x2520dabfa20>,\n",
       "  <matplotlib.lines.Line2D at 0x2520dabfda0>,\n",
       "  <matplotlib.lines.Line2D at 0x2520dad66a0>,\n",
       "  <matplotlib.lines.Line2D at 0x2520dad6a20>,\n",
       "  <matplotlib.lines.Line2D at 0x2520daeb320>,\n",
       "  <matplotlib.lines.Line2D at 0x2520daeb6a0>,\n",
       "  <matplotlib.lines.Line2D at 0x2520daf5f60>,\n",
       "  <matplotlib.lines.Line2D at 0x2520db00320>,\n",
       "  <matplotlib.lines.Line2D at 0x2520db0bbe0>,\n",
       "  <matplotlib.lines.Line2D at 0x2520db0bf60>],\n",
       " 'caps': [<matplotlib.lines.Line2D at 0x2520dacc160>,\n",
       "  <matplotlib.lines.Line2D at 0x2520dacc4e0>,\n",
       "  <matplotlib.lines.Line2D at 0x2520dad6da0>,\n",
       "  <matplotlib.lines.Line2D at 0x2520dae0160>,\n",
       "  <matplotlib.lines.Line2D at 0x2520daeba20>,\n",
       "  <matplotlib.lines.Line2D at 0x2520daebda0>,\n",
       "  <matplotlib.lines.Line2D at 0x2520db006a0>,\n",
       "  <matplotlib.lines.Line2D at 0x2520db00a20>,\n",
       "  <matplotlib.lines.Line2D at 0x2520db16320>,\n",
       "  <matplotlib.lines.Line2D at 0x2520db166a0>],\n",
       " 'boxes': [<matplotlib.lines.Line2D at 0x2520dabf710>,\n",
       "  <matplotlib.lines.Line2D at 0x2520dad62e8>,\n",
       "  <matplotlib.lines.Line2D at 0x2520dae0f28>,\n",
       "  <matplotlib.lines.Line2D at 0x2520daf5ba8>,\n",
       "  <matplotlib.lines.Line2D at 0x2520db0b828>],\n",
       " 'medians': [<matplotlib.lines.Line2D at 0x2520dacc860>,\n",
       "  <matplotlib.lines.Line2D at 0x2520dae04e0>,\n",
       "  <matplotlib.lines.Line2D at 0x2520daf5160>,\n",
       "  <matplotlib.lines.Line2D at 0x2520db00da0>,\n",
       "  <matplotlib.lines.Line2D at 0x2520db16a20>],\n",
       " 'fliers': [<matplotlib.lines.Line2D at 0x2520daccf28>,\n",
       "  <matplotlib.lines.Line2D at 0x2520dae0ba8>,\n",
       "  <matplotlib.lines.Line2D at 0x2520daf5828>,\n",
       "  <matplotlib.lines.Line2D at 0x2520db0b4a8>,\n",
       "  <matplotlib.lines.Line2D at 0x2520db21128>],\n",
       " 'means': [<matplotlib.lines.Line2D at 0x2520daccbe0>,\n",
       "  <matplotlib.lines.Line2D at 0x2520dae0860>,\n",
       "  <matplotlib.lines.Line2D at 0x2520daf54e0>,\n",
       "  <matplotlib.lines.Line2D at 0x2520db0b160>,\n",
       "  <matplotlib.lines.Line2D at 0x2520db16da0>]}"
      ]
     },
     "execution_count": 46,
     "metadata": {},
     "output_type": "execute_result"
    },
    {
     "data": {
      "image/png": "[encoded data removed]",
      "text/plain": [
       "<Figure size 432x288 with 1 Axes>"
      ]
     },
     "metadata": {
      "needs_background": "light"
     },
     "output_type": "display_data"
    }
   ],
   "source": [
    "pyplot.boxplot([y_pred_lr, y_pred_dt, y_pred_lasso, y_pred_rfr, y_pred_svr],labels= ['y_pred_lr', 'y_pred_dt', 'y_pred_lasso', 'y_pred_rfr', 'y_pred_svr'], showmeans=True)"
   ]
  },
  {
   "cell_type": "code",
   "execution_count": 49,
   "metadata": {},
   "outputs": [
    {
     "name": "stdout",
     "output_type": "stream",
     "text": [
      "LR 0.10214\n",
      "DT 0.10607\n",
      "lasso 0.11517\n",
      "rfr 0.10042\n",
      "svr 0.10090\n"
     ]
    }
   ],
   "source": [
    "print('LR %.5f' % lr_mae)\n",
    "print('DT %.5f' %  dt_mae)\n",
    "print('lasso %.5f' %  lasso_mae)\n",
    "print('rfr %.5f' %  rfr_mae)\n",
    "print('svr %.5f' %  svr_mae)"
   ]
  },
  {
   "cell_type": "code",
   "execution_count": 8,
   "metadata": {},
   "outputs": [
    {
     "name": "stdout",
     "output_type": "stream",
     "text": [
      "{'n_estimators': [50, 100, 150, 200], 'max_features': ['auto', 'sqrt'], 'max_depth': [10, 20, 30, 40, 50, 60, 70, None], 'min_samples_split': [2, 5, 10], 'min_samples_leaf': [1, 2, 4], 'bootstrap': [True, False]}\n"
     ]
    }
   ],
   "source": [
    "from sklearn.model_selection import RandomizedSearchCV\n",
    "# Number of trees in random forest\n",
    "n_estimators = [50, 100, 150, 200 ]\n",
    "# Number of features to consider at every split\n",
    "max_features = ['auto', 'sqrt']\n",
    "# Maximum number of levels in tree\n",
    "max_depth = [10, 20, 30, 40, 50, 60,70]\n",
    "max_depth.append(None)\n",
    "# Minimum number of samples required to split a node\n",
    "min_samples_split = [2, 5, 10]\n",
    "# Minimum number of samples required at each leaf node\n",
    "min_samples_leaf = [1, 2, 4]\n",
    "# Method of selecting samples for training each tree\n",
    "bootstrap = [True, False]\n",
    "# Create the random grid\n",
    "random_grid = {'n_estimators': n_estimators,\n",
    "               'max_features': max_features,\n",
    "               'max_depth': max_depth,\n",
    "               'min_samples_split': min_samples_split,\n",
    "               'min_samples_leaf': min_samples_leaf,\n",
    "               'bootstrap': bootstrap}\n",
    "print(random_grid)"
   ]
  },
  {
   "cell_type": "code",
   "execution_count": 9,
   "metadata": {},
   "outputs": [
    {
     "name": "stdout",
     "output_type": "stream",
     "text": [
      "Fitting 3 folds for each of 10 candidates, totalling 30 fits\n"
     ]
    },
    {
     "data": {
      "text/plain": [
       "RandomizedSearchCV(cv=3, estimator=RandomForestRegressor(), n_jobs=-1,\n",
       "                   param_distributions={'bootstrap': [True, False],\n",
       "                                        'max_depth': [10, 20, 30, 40, 50, 60,\n",
       "                                                      70, None],\n",
       "                                        'max_features': ['auto', 'sqrt'],\n",
       "                                        'min_samples_leaf': [1, 2, 4],\n",
       "                                        'min_samples_split': [2, 5, 10],\n",
       "                                        'n_estimators': [50, 100, 150, 200]},\n",
       "                   random_state=42, verbose=2)"
      ]
     },
     "execution_count": 9,
     "metadata": {},
     "output_type": "execute_result"
    }
   ],
   "source": [
    "# Use the random grid to search for best hyperparameters\n",
    "# First create the base model to tune\n",
    "rf = RandomForestRegressor()\n",
    "# Random search of parameters, using 3 fold cross validation, \n",
    "# search across 10 different combinations, and use all available cores\n",
    "rf_random = RandomizedSearchCV(estimator = rf, param_distributions = random_grid, n_iter = 10, cv = 3, verbose=2, random_state=42, n_jobs = -1)\n",
    "# Fit the random search model\n",
    "rf_random.fit(X_train_fs, y_train)"
   ]
  },
  {
   "cell_type": "code",
   "execution_count": 10,
   "metadata": {},
   "outputs": [
    {
     "data": {
      "text/plain": [
       "{'n_estimators': 150,\n",
       " 'min_samples_split': 2,\n",
       " 'min_samples_leaf': 2,\n",
       " 'max_features': 'sqrt',\n",
       " 'max_depth': None,\n",
       " 'bootstrap': False}"
      ]
     },
     "execution_count": 10,
     "metadata": {},
     "output_type": "execute_result"
    }
   ],
   "source": [
    "rf_random.best_params_"
   ]
  },
  {
   "cell_type": "code",
   "execution_count": 11,
   "metadata": {},
   "outputs": [
    {
     "data": {
      "text/plain": [
       "0.22875111458898048"
      ]
     },
     "execution_count": 11,
     "metadata": {},
     "output_type": "execute_result"
    }
   ],
   "source": [
    "rf_random.best_score_ "
   ]
  },
  {
   "cell_type": "code",
   "execution_count": 39,
   "metadata": {},
   "outputs": [
    {
     "name": "stdout",
     "output_type": "stream",
     "text": [
      "Model Performance\n",
      "MAE: 0.0984\n",
      "Accuracy = 82.71%.\n"
     ]
    }
   ],
   "source": [
    "def evaluate(model, test_features, test_labels):\n",
    "    predictions = model.predict(test_features)\n",
    "    errors = abs(predictions - test_labels)\n",
    "    mape = 100 * np.mean(errors / test_labels)\n",
    "    accuracy = 100 - mape\n",
    "    print('Model Performance')\n",
    "    print('MAE: {:0.4f}'.format(np.mean(errors)))\n",
    "    print('Accuracy = {:0.2f}%.'.format(accuracy))\n",
    "    return accuracy\n",
    "\n",
    "base_model = RandomForestRegressor(n_estimators = 150, random_state = 42, min_samples_split = 2, min_samples_leaf=2, max_features='sqrt', bootstrap= False)\n",
    "base_model.fit(X_train_fs, y_train)\n",
    "base_accuracy = evaluate(base_model, X_test_fs, y_test)"
   ]
  },
  {
   "cell_type": "markdown",
   "metadata": {},
   "source": [
    "all > 0.10214 \\\n",
    "100 > 0.10382 \\\n",
    "200 > 0.10304 \\\n",
    "300 > 0.10256 \\\n",
    "400 > 0.10220"
   ]
  },
  {
   "attachments": {},
   "cell_type": "markdown",
   "metadata": {},
   "source": [
    "## Model Deployment"
   ]
  },
  {
   "cell_type": "code",
   "execution_count": 40,
   "metadata": {},
   "outputs": [
    {
     "data": {
      "text/plain": [
       "418"
      ]
     },
     "execution_count": 40,
     "metadata": {},
     "output_type": "execute_result"
    }
   ],
   "source": [
    "ohe_feild = pd.read_csv('data/genre_tag_clean.csv')\n",
    "ohe_feild = ohe_feild.drop(columns= ['appid'])\n",
    "len(ohe_feild.keys())"
   ]
  },
  {
   "cell_type": "code",
   "execution_count": 41,
   "metadata": {},
   "outputs": [],
   "source": [
    "tags = [['a','b','c'], ['d','e','f']]\n",
    "def deploy(tags):\n",
    "    ohe_feild = pd.read_csv('data/genre_tag_clean.csv')\n",
    "    ohe_feild = ohe_feild.drop(columns= ['appid'])\n",
    "    df = np.zeros((len(tags), len(ohe_feild.keys())))\n",
    "    for row in range(len(tags)):\n",
    "        index_list = []\n",
    "        for tag in tags[row]:\n",
    "            index = ohe_feild.keys().to_list().index(tag)\n",
    "            index_list.append(index)\n",
    "\n",
    "        for i in index_list:\n",
    "            df[row][i] = 1\n",
    "        \n",
    "    rating = base_model.predict(df)\n",
    "    return rating\n",
    "\n",
    "\n"
   ]
  },
  {
   "cell_type": "code",
   "execution_count": 58,
   "metadata": {},
   "outputs": [],
   "source": [
    "rules = pd.read_csv('rules.csv')\n",
    "union = rules['union']\n",
    "\n",
    "features =  []\n",
    "for str_tag in union:\n",
    "    features.append(str_tag.split(', '))\n",
    "\n",
    "ratings = deploy(features)"
   ]
  },
  {
   "cell_type": "code",
   "execution_count": 60,
   "metadata": {},
   "outputs": [],
   "source": [
    "d = {'Tags': union, 'Rating' : ratings}\n",
    "fin = pd.DataFrame(data=d)\n",
    "fin.to_csv('final_pred_minsub0.1_112rec.csv')"
   ]
  },
  {
   "attachments": {},
   "cell_type": "markdown",
   "metadata": {},
   "source": [
    "# Done"
   ]
  },
  {
   "cell_type": "code",
   "execution_count": 61,
   "metadata": {},
   "outputs": [
    {
     "data": {
      "image/png": "[encoded data removed]",
      "text/plain": [
       "<Figure size 720x360 with 1 Axes>"
      ]
     },
     "metadata": {
      "needs_background": "light"
     },
     "output_type": "display_data"
    }
   ],
   "source": [
    "\n",
    "import numpy as np\n",
    "import matplotlib.pyplot as plt\n",
    " \n",
    "  \n",
    "# creating the dataset\n",
    "\n",
    "courses = ['LR', 'DT', 'RFR', 'LSS', 'SVR']\n",
    "values = [0.10421, 0.10607, 0.10090, 0.11517, 0.10047]\n",
    "  \n",
    "fig = plt.figure(figsize = (10, 5))\n",
    " \n",
    "# creating the bar plot\n",
    "plt.bar(courses, values, color ='maroon',\n",
    "        width = 0.4)\n",
    " \n",
    "plt.xlabel(\"Models\")\n",
    "plt.ylabel(\"Mean Abosolute Error(MAE)\")\n",
    "plt.title(\"MAE from difference models\")\n",
    "plt.show()"
   ]
  }
 ],
 "metadata": {
  "kernelspec": {
   "display_name": "Python 3.6.13 ('mainpy')",
   "language": "python",
   "name": "python3"
  },
  "language_info": {
   "codemirror_mode": {
    "name": "ipython",
    "version": 3
   },
   "file_extension": ".py",
   "mimetype": "text/x-python",
   "name": "python",
   "nbconvert_exporter": "python",
   "pygments_lexer": "ipython3",
   "version": "3.6.13"
  },
  "orig_nbformat": 4,
  "vscode": {
   "interpreter": {
    "hash": "45af69b1c9a767b936061bed49c06025bd9a95ff555383f76da9a592e35e6831"
   }
  }
 },
 "nbformat": 4,
 "nbformat_minor": 2
}
